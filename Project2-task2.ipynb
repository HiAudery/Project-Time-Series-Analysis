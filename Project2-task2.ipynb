{
 "cells": [
  {
   "cell_type": "code",
   "execution_count": 1,
   "id": "fd2b62a7",
   "metadata": {
    "collapsed": true
   },
   "outputs": [
    {
     "name": "stdout",
     "output_type": "stream",
     "text": [
      "Requirement already satisfied: ts2vg in /Users/audrey/opt/anaconda3/lib/python3.8/site-packages (1.2.1)\n",
      "Requirement already satisfied: numpy in /Users/audrey/opt/anaconda3/lib/python3.8/site-packages (from ts2vg) (1.22.4)\n",
      "Requirement already satisfied: igraph in /Users/audrey/opt/anaconda3/lib/python3.8/site-packages (0.10.4)\n",
      "Requirement already satisfied: texttable>=1.6.2 in /Users/audrey/opt/anaconda3/lib/python3.8/site-packages (from igraph) (1.6.7)\n",
      "Collecting pycairo\n",
      "  Using cached pycairo-1.23.0.tar.gz (344 kB)\n",
      "  Installing build dependencies ... \u001b[?25ldone\n",
      "\u001b[?25h  Getting requirements to build wheel ... \u001b[?25ldone\n",
      "\u001b[?25h  Installing backend dependencies ... \u001b[?25ldone\n",
      "\u001b[?25h    Preparing wheel metadata ... \u001b[?25ldone\n",
      "\u001b[?25hBuilding wheels for collected packages: pycairo\n",
      "  Building wheel for pycairo (PEP 517) ... \u001b[?25lerror\n",
      "\u001b[31m  ERROR: Command errored out with exit status 1:\n",
      "   command: /Users/audrey/opt/anaconda3/bin/python /Users/audrey/opt/anaconda3/lib/python3.8/site-packages/pip/_vendor/pep517/_in_process.py build_wheel /var/folders/k5/4497qj8j4vj80p_wg1hh3cbc0000gn/T/tmpa5_x317d\n",
      "       cwd: /private/var/folders/k5/4497qj8j4vj80p_wg1hh3cbc0000gn/T/pip-install-v87se_1x/pycairo_72804642f64f41ad8c34ec05520a4ee5\n",
      "  Complete output (12 lines):\n",
      "  running bdist_wheel\n",
      "  running build\n",
      "  running build_py\n",
      "  creating build\n",
      "  creating build/lib.macosx-10.9-x86_64-cpython-38\n",
      "  creating build/lib.macosx-10.9-x86_64-cpython-38/cairo\n",
      "  copying cairo/__init__.py -> build/lib.macosx-10.9-x86_64-cpython-38/cairo\n",
      "  copying cairo/__init__.pyi -> build/lib.macosx-10.9-x86_64-cpython-38/cairo\n",
      "  copying cairo/py.typed -> build/lib.macosx-10.9-x86_64-cpython-38/cairo\n",
      "  running build_ext\n",
      "  'pkg-config' not found.\n",
      "  Command ['pkg-config', '--print-errors', '--exists', 'cairo >= 1.15.10']\n",
      "  ----------------------------------------\u001b[0m\n",
      "\u001b[31m  ERROR: Failed building wheel for pycairo\u001b[0m\n",
      "\u001b[?25hFailed to build pycairo\n",
      "\u001b[31mERROR: Could not build wheels for pycairo which use PEP 517 and cannot be installed directly\u001b[0m\n",
      "Requirement already satisfied: cairocffi in /Users/audrey/opt/anaconda3/lib/python3.8/site-packages (1.5.0)\n",
      "Requirement already satisfied: cffi>=1.1.0 in /Users/audrey/opt/anaconda3/lib/python3.8/site-packages (from cairocffi) (1.14.5)\n",
      "Requirement already satisfied: pycparser in /Users/audrey/opt/anaconda3/lib/python3.8/site-packages (from cffi>=1.1.0->cairocffi) (2.20)\n",
      "Collecting tabulate\n",
      "  Downloading tabulate-0.9.0-py3-none-any.whl (35 kB)\n",
      "Installing collected packages: tabulate\n",
      "Successfully installed tabulate-0.9.0\n"
     ]
    }
   ],
   "source": [
    "# Install Packages\n",
    "!pip install ts2vg\n",
    "!pip install igraph\n",
    "!pip install pycairo\n",
    "!pip install cairocffi\n",
    "!pip install tabulate"
   ]
  },
  {
   "cell_type": "markdown",
   "id": "1a589d44",
   "metadata": {},
   "source": [
    "# Task 2 \n",
    "Google has made available some mobility data around the world since the COVID-19 pandemic began. You can find their datasets here: https://www.google.com/covid19/mobility/. For this task, you will be forecasting using data from the King County. There are 2 ways to get these data:\n",
    "1. Download the Global file (not recommended, it’s huge) \n",
    "2. Download the folder of all Regional files. There should be 3 years of CSV files for each region, you should locate and grab the 3 corresponding to “US”\n",
    "\n",
    "Once you have the proper data files, you should be able to isolate just the data from King county via the `sub_region_#` columns. In this activity, we will be concerned with describing and forecasting the time series concerning “Residential”, “Work”, and “Grocery and Pharmacy” \n",
    "1. Put together your entire time series using all the data from 2020-2022. You should end up with 1 dataframe that contains all the data points. \n",
    "2. Trim down your time series to remove the months before April 2020. This will remove the very early pandemic and the pre-pandemic conditions. \n",
    "3. For each of the 3 time series, perform an additive Time Series Decomposition and plot the results. You should show the trend, seasonality, and remainder in your plots. \n",
    "4. For each time series, build a forecasting model using Exponential Smoothing (ES). You should test out at least 2 different ES models and use forecast evaluation metrics (e.g. MAE, RMSE) to demonstrate why you chose your best ES model \n",
    "5. For each time series, build a forecasting model using ARIMA. You must show why you chose your ARIMA model. \n",
    "6. Compare your best ES and best ARIMA models for each time series using forecast evaluation metrics. Show which model is best in each case. \n",
    "7. Using your best model, forecast the rest of 2022 for each time series. Show these forecasts by plotting the past data points in 1 color and the future data points in a second color."
   ]
  }
 ],
 "metadata": {
  "kernelspec": {
   "display_name": "Python 3",
   "language": "python",
   "name": "python3"
  },
  "language_info": {
   "codemirror_mode": {
    "name": "ipython",
    "version": 3
   },
   "file_extension": ".py",
   "mimetype": "text/x-python",
   "name": "python",
   "nbconvert_exporter": "python",
   "pygments_lexer": "ipython3",
   "version": "3.8.8"
  }
 },
 "nbformat": 4,
 "nbformat_minor": 5
}
